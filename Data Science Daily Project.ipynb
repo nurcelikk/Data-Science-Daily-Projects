{
 "cells": [
  {
   "cell_type": "code",
   "execution_count": 3,
   "id": "db3c49b8-e222-4480-bc41-48722903b863",
   "metadata": {},
   "outputs": [],
   "source": [
    "#28.07.2025"
   ]
  },
  {
   "cell_type": "code",
   "execution_count": 49,
   "id": "70d258b1-8678-4ebc-a2ea-95989905a8bf",
   "metadata": {},
   "outputs": [],
   "source": [
    "import pandas as pd"
   ]
  },
  {
   "cell_type": "code",
   "execution_count": 5,
   "id": "321e6677-ebc2-4f1f-b9f8-2103990ec6ab",
   "metadata": {},
   "outputs": [],
   "source": [
    "veri = {\n",
    "    \"UrunID\": [101, 102, 103, 104, 105, 106],\n",
    "    \"UrunAdi\": [\"Süt\", \"Ekmek\", \"Yumurta\", \"Peynir\", \"Zeytin\", \"Çay\"],\n",
    "    \"Kategori\": [\"İçecek\", \"Unlu Mamül\", \"Temel Gıda\", \"Süt Ürünü\", \"Kahvaltılık\", \"İçecek\"],\n",
    "    \"Fiyat\": [15.5, 5.0, 28.0, 50.0, 35.0, 40.0],\n",
    "    \"Stok\": [100, 150, 200, 80, 60, 90],\n",
    "    \"Tedarikci\": [\"Firma A\", \"Firma B\", \"Firma C\", \"Firma A\", \"Firma C\", \"Firma B\"]\n",
    "}"
   ]
  },
  {
   "cell_type": "code",
   "execution_count": 7,
   "id": "d215bf82-040e-4962-b31d-9a115ed990c8",
   "metadata": {},
   "outputs": [],
   "source": [
    "df=pd.DataFrame(veri)  #Elimizdeki sözlük (dictionary) yapısını, tablo formatına (DataFrame) çevirir.\n",
    "                       #pd → Pandas kütüphanesini import pandas as pd ile pd kısaltmasıyla kullanıyoruz.\n",
    "                       #DataFrame() → Pandas'ın tablo yapısını oluşturan ana sınıfı.\n",
    "                       #veri → İçinde sütunlara göre gruplanmış listeler olan sözlük (dictionary)."
   ]
  },
  {
   "cell_type": "code",
   "execution_count": null,
   "id": "cc90e82c-b66d-48e4-b91d-6e10bfa20ed7",
   "metadata": {},
   "outputs": [],
   "source": [
    "#Her Zaman Yazmak Zorunda mıyız?\n",
    "#Evet, veriyi sıfırdan oluşturuyorsak, pd.DataFrame(...) yazmak zorundayız.\n",
    "#Ama:\n",
    "\n",
    "#Eğer .csv dosyası yüklüyorsan, genellikle pd.read_csv(...) kullanırsın.\n",
    "\n",
    "#Excel ise pd.read_excel(...) kullanılır."
   ]
  },
  {
   "cell_type": "code",
   "execution_count": 10,
   "id": "f5fa104e-7e7d-44ca-bef8-b99f07b2f858",
   "metadata": {},
   "outputs": [
    {
     "name": "stdout",
     "output_type": "stream",
     "text": [
      "   UrunID  UrunAdi     Kategori  Fiyat  Stok Tedarikci\n",
      "0     101      Süt       İçecek   15.5   100   Firma A\n",
      "1     102    Ekmek   Unlu Mamül    5.0   150   Firma B\n",
      "2     103  Yumurta   Temel Gıda   28.0   200   Firma C\n",
      "3     104   Peynir    Süt Ürünü   50.0    80   Firma A\n",
      "4     105   Zeytin  Kahvaltılık   35.0    60   Firma C\n"
     ]
    }
   ],
   "source": [
    "#SORU\n",
    "#İlk 5 veriyi bas;\n",
    "print(df.head())"
   ]
  },
  {
   "cell_type": "code",
   "execution_count": 14,
   "id": "44d88cfd-865a-4722-ac8d-2712f966b9da",
   "metadata": {},
   "outputs": [
    {
     "name": "stdout",
     "output_type": "stream",
     "text": [
      "   UrunID UrunAdi Kategori  Fiyat  Stok Tedarikci\n",
      "0     101     Süt   İçecek   15.5   100   Firma A\n",
      "5     106     Çay   İçecek   40.0    90   Firma B\n"
     ]
    }
   ],
   "source": [
    "#SORU2:\n",
    "#Sadece içecek kategorisindeki ürünleri filtrele;\n",
    "print(df[df[\"Kategori\"]==\"İçecek\"])"
   ]
  },
  {
   "cell_type": "code",
   "execution_count": 19,
   "id": "2bf7f336-f751-4f87-ba34-24348d16fbde",
   "metadata": {},
   "outputs": [
    {
     "name": "stdout",
     "output_type": "stream",
     "text": [
      "   UrunID UrunAdi    Kategori  Fiyat  Stok Tedarikci\n",
      "1     102   Ekmek  Unlu Mamül    5.0   150   Firma B\n"
     ]
    }
   ],
   "source": [
    "#Sadece unlu mamaulü getir;\n",
    "print(df[df[\"Kategori\"]==\"Unlu Mamül\"])"
   ]
  },
  {
   "cell_type": "code",
   "execution_count": 21,
   "id": "ca3ee4d9-addc-4299-8b58-ee9a86ec7a30",
   "metadata": {},
   "outputs": [
    {
     "name": "stdout",
     "output_type": "stream",
     "text": [
      "   UrunID  UrunAdi    Kategori  Fiyat  Stok Tedarikci\n",
      "2     103  Yumurta  Temel Gıda   28.0   200   Firma C\n"
     ]
    }
   ],
   "source": [
    "#Temel Gıda;\n",
    "print(df[df[\"Kategori\"]==\"Temel Gıda\"])"
   ]
  },
  {
   "cell_type": "code",
   "execution_count": 23,
   "id": "6c6b42f2-187f-4af0-b9c8-957104965118",
   "metadata": {},
   "outputs": [
    {
     "name": "stdout",
     "output_type": "stream",
     "text": [
      "   UrunID UrunAdi     Kategori  Fiyat  Stok Tedarikci\n",
      "4     105  Zeytin  Kahvaltılık   35.0    60   Firma C\n"
     ]
    }
   ],
   "source": [
    "#Kahvaltılık;\n",
    "print(df[df[\"Kategori\"]==\"Kahvaltılık\"])"
   ]
  },
  {
   "cell_type": "code",
   "execution_count": 29,
   "id": "c340ae82-c228-4ed6-aa3e-4c4cfe59f5d7",
   "metadata": {},
   "outputs": [
    {
     "name": "stdout",
     "output_type": "stream",
     "text": [
      "   UrunID UrunAdi     Kategori  Fiyat  Stok Tedarikci\n",
      "3     104  Peynir    Süt Ürünü   50.0    80   Firma A\n",
      "4     105  Zeytin  Kahvaltılık   35.0    60   Firma C\n",
      "5     106     Çay       İçecek   40.0    90   Firma B\n"
     ]
    }
   ],
   "source": [
    "#SORU3\n",
    "#Fiyatı 30 TL'den FazLA olan ürünleri listele;\n",
    "\n",
    "print(df[df[\"Fiyat\"]>30])"
   ]
  },
  {
   "cell_type": "code",
   "execution_count": 31,
   "id": "7907727a-cd4c-474f-a51d-0f99f748fbb8",
   "metadata": {},
   "outputs": [
    {
     "name": "stdout",
     "output_type": "stream",
     "text": [
      "   UrunID  UrunAdi    Kategori  Fiyat  Stok Tedarikci\n",
      "0     101      Süt      İçecek   15.5   100   Firma A\n",
      "1     102    Ekmek  Unlu Mamül    5.0   150   Firma B\n",
      "2     103  Yumurta  Temel Gıda   28.0   200   Firma C\n"
     ]
    }
   ],
   "source": [
    "print(df[df[\"Fiyat\"]<30])"
   ]
  },
  {
   "cell_type": "code",
   "execution_count": 33,
   "id": "f3f5b690-8724-468a-928b-7be76045ecfa",
   "metadata": {},
   "outputs": [
    {
     "name": "stdout",
     "output_type": "stream",
     "text": [
      "Empty DataFrame\n",
      "Columns: [UrunID, UrunAdi, Kategori, Fiyat, Stok, Tedarikci]\n",
      "Index: []\n"
     ]
    }
   ],
   "source": [
    "print(df[df[\"Fiyat\"]>50])"
   ]
  },
  {
   "cell_type": "code",
   "execution_count": 35,
   "id": "019f4bb9-b94e-48ed-b482-4235c133a6b7",
   "metadata": {},
   "outputs": [
    {
     "name": "stdout",
     "output_type": "stream",
     "text": [
      "   UrunID  UrunAdi     Kategori  Fiyat  Stok Tedarikci\n",
      "0     101      Süt       İçecek   15.5   100   Firma A\n",
      "1     102    Ekmek   Unlu Mamül    5.0   150   Firma B\n",
      "2     103  Yumurta   Temel Gıda   28.0   200   Firma C\n",
      "4     105   Zeytin  Kahvaltılık   35.0    60   Firma C\n"
     ]
    }
   ],
   "source": [
    "print(df[df[\"Fiyat\"]<40])"
   ]
  },
  {
   "cell_type": "code",
   "execution_count": 39,
   "id": "28e318fa-e429-41d3-9040-8c7b53685713",
   "metadata": {},
   "outputs": [
    {
     "name": "stdout",
     "output_type": "stream",
     "text": [
      "   UrunID  UrunAdi    Kategori  Fiyat  Stok Tedarikci\n",
      "2     103  Yumurta  Temel Gıda   28.0   200   Firma C\n"
     ]
    }
   ],
   "source": [
    "#En çok stokta olan ürün;\n",
    "print(df[df[\"Stok\"]==df[\"Stok\"].max()])"
   ]
  },
  {
   "cell_type": "code",
   "execution_count": 41,
   "id": "920c3c41-961c-4b6c-b940-b31a6ec2d70d",
   "metadata": {},
   "outputs": [
    {
     "name": "stdout",
     "output_type": "stream",
     "text": [
      "   UrunID  UrunAdi    Kategori  Fiyat  Stok Tedarikci\n",
      "2     103  Yumurta  Temel Gıda   28.0   200   Firma C\n"
     ]
    }
   ],
   "source": [
    "print(df[df[\"Stok\"]==df[\"Stok\"].max()])"
   ]
  },
  {
   "cell_type": "code",
   "execution_count": 45,
   "id": "a316c858-085b-40dd-bc2f-f7f9fed78871",
   "metadata": {},
   "outputs": [
    {
     "name": "stdout",
     "output_type": "stream",
     "text": [
      "Ortalama Fiyat: 28.916666666666668\n",
      "Toplam Fiyat: 173.5\n"
     ]
    }
   ],
   "source": [
    "#Ortalama Fiyat Toplam Fiyat\n",
    "print(\"Ortalama Fiyat:\",df[\"Fiyat\"].mean())\n",
    "print(\"Toplam Fiyat:\",df[\"Fiyat\"].sum())"
   ]
  },
  {
   "cell_type": "code",
   "execution_count": 47,
   "id": "27b88051-e168-41a9-8462-40b494e8be7f",
   "metadata": {},
   "outputs": [],
   "source": [
    "import matplotlib.pyplot as plt"
   ]
  },
  {
   "cell_type": "code",
   "execution_count": null,
   "id": "5615a5e9-eba8-45df-b007-f9033f253cbc",
   "metadata": {},
   "outputs": [],
   "source": [
    "#SORU1:\n",
    "#X ekseni ürün adı y ekseni fiyat olan bar grafiği çiz."
   ]
  },
  {
   "cell_type": "code",
   "execution_count": 55,
   "id": "8a057f9b-3c9e-47aa-8c50-d3bfabd5c8ca",
   "metadata": {},
   "outputs": [
    {
     "data": {
      "image/png": "[encoded data removed]",
      "text/plain": [
       "<Figure size 640x480 with 1 Axes>"
      ]
     },
     "metadata": {},
     "output_type": "display_data"
    }
   ],
   "source": [
    "plt.bar(df[\"UrunAdi\"],df[\"Fiyat\"])\n",
    "plt.show()"
   ]
  },
  {
   "cell_type": "code",
   "execution_count": null,
   "id": "01d1bd86-7cae-467c-a824-6719a2dc2f0a",
   "metadata": {},
   "outputs": [],
   "source": [
    "# 2. Soru - Başlık ve etiketlerle grafiği özelleştir"
   ]
  },
  {
   "cell_type": "code",
   "execution_count": 57,
   "id": "56cec600-38d1-4ef0-a100-fca93ca5566a",
   "metadata": {},
   "outputs": [
    {
     "data": {
      "image/png": "[encoded data removed]",
      "text/plain": [
       "<Figure size 640x480 with 1 Axes>"
      ]
     },
     "metadata": {},
     "output_type": "display_data"
    }
   ],
   "source": [
    "plt.bar(df[\"UrunAdi\"],df[\"Fiyat\"],color=\"orange\")\n",
    "plt.title(\"Ürün Bilgileri\")\n",
    "plt.xlabel(\"Ürün Adı\")\n",
    "plt.ylabel(\"Fiyat(TL)\")\n",
    "plt.show()\n"
   ]
  },
  {
   "cell_type": "code",
   "execution_count": null,
   "id": "28637956-345a-4305-bd85-7ed81fa85955",
   "metadata": {},
   "outputs": [],
   "source": [
    "# 3. Soru - subplot ile yan yana iki grafik"
   ]
  },
  {
   "cell_type": "code",
   "execution_count": 67,
   "id": "499675db-1d53-47bf-b1dd-003b5a6ee299",
   "metadata": {},
   "outputs": [
    {
     "data": {
      "text/plain": [
       "Text(0, 0.5, 'Stok')"
      ]
     },
     "execution_count": 67,
     "metadata": {},
     "output_type": "execute_result"
    },
    {
     "data": {
      "image/png": "[encoded data removed]",
      "text/plain": [
       "<Figure size 1200x500 with 2 Axes>"
      ]
     },
     "metadata": {},
     "output_type": "display_data"
    }
   ],
   "source": [
    "fig, axs=plt.subplots(1,2,figsize=(12,5))\n",
    "axs[0].bar(df[\"UrunAdi\"],df[\"Fiyat\"],color=\"purple\")\n",
    "axs[0].set_title(\"Ürün Bilgisi\")\n",
    "axs[0].set_xlabel(\"Ürünler\")\n",
    "axs[0].set_ylabel(\"Fiyat\")\n",
    "\n",
    "axs[1].bar(df[\"UrunAdi\"],df[\"Stok\"],color=\"Pink\")\n",
    "axs[1].set_title(\"Stok Bilgileri\")\n",
    "axs[1].set_xlabel(\"Ürün Adı\")\n",
    "axs[1].set_ylabel(\"Stok\")\n",
    "#Layoutu kullanmadım sonuç;\n"
   ]
  },
  {
   "cell_type": "code",
   "execution_count": 69,
   "id": "26482948-6dce-4296-9734-251bae2104e3",
   "metadata": {},
   "outputs": [
    {
     "data": {
      "image/png": "[encoded data removed]",
      "text/plain": [
       "<Figure size 1200x500 with 2 Axes>"
      ]
     },
     "metadata": {},
     "output_type": "display_data"
    }
   ],
   "source": [
    "fig, axs=plt.subplots(1,2,figsize=(12,5))\n",
    "axs[0].bar(df[\"UrunAdi\"],df[\"Fiyat\"],color=\"purple\")\n",
    "axs[0].set_title(\"Ürün Bilgisi\")\n",
    "axs[0].set_xlabel(\"Ürünler\")\n",
    "axs[0].set_ylabel(\"Fiyat\")\n",
    "\n",
    "axs[1].bar(df[\"UrunAdi\"],df[\"Stok\"],color=\"Pink\")\n",
    "axs[1].set_title(\"Stok Bilgileri\")\n",
    "axs[1].set_xlabel(\"Ürün Adı\")\n",
    "axs[1].set_ylabel(\"Stok\")\n",
    "\n",
    "plt.tight_layout()\n",
    "plt.show()\n",
    "\n",
    "#NOT:\n",
    "#plt.tight_layout() nedir, ne işe yarar?\n",
    "#Grafik içindeki başlıklar, etiketler ve grafiklerin birbirine girmemesi için boşlukları otomatik olarak ayarlar.\n",
    "\n",
    "#Özellikle birden fazla grafik (subplot) varsa, eksen yazıları veya başlıklar çakışabilir.\n",
    "\n",
    "#Bu komut:\n",
    "#🔸 Ekseni, başlığı, etiketleri sıkıştırır ama okunabilir şekilde yerleştirir."
   ]
  },
  {
   "cell_type": "code",
   "execution_count": null,
   "id": "6f3a5f6d-d6bd-4dc8-b3ce-17ad88284529",
   "metadata": {},
   "outputs": [],
   "source": []
  },
  {
   "cell_type": "code",
   "execution_count": null,
   "id": "a504c81b-d54c-47db-a847-f8c110be7067",
   "metadata": {},
   "outputs": [],
   "source": []
  }
 ],
 "metadata": {
  "kernelspec": {
   "display_name": "Python 3 (ipykernel)",
   "language": "python",
   "name": "python3"
  },
  "language_info": {
   "codemirror_mode": {
    "name": "ipython",
    "version": 3
   },
   "file_extension": ".py",
   "mimetype": "text/x-python",
   "name": "python",
   "nbconvert_exporter": "python",
   "pygments_lexer": "ipython3",
   "version": "3.12.4"
  }
 },
 "nbformat": 4,
 "nbformat_minor": 5
}
